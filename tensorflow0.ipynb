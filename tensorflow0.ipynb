{
  "nbformat": 4,
  "nbformat_minor": 0,
  "metadata": {
    "colab": {
      "provenance": [],
      "gpuType": "T4",
      "authorship_tag": "ABX9TyNfY5RYI31tKFMaFleQySoo",
      "include_colab_link": true
    },
    "kernelspec": {
      "name": "python3",
      "display_name": "Python 3"
    },
    "language_info": {
      "name": "python"
    },
    "accelerator": "GPU"
  },
  "cells": [
    {
      "cell_type": "markdown",
      "metadata": {
        "id": "view-in-github",
        "colab_type": "text"
      },
      "source": [
        "<a href=\"https://colab.research.google.com/github/k4404c/tensorflow_workbook/blob/main/tensorflow0.ipynb\" target=\"_parent\"><img src=\"https://colab.research.google.com/assets/colab-badge.svg\" alt=\"Open In Colab\"/></a>"
      ]
    },
    {
      "cell_type": "markdown",
      "source": [
        "# Tensorflow 0.0\n"
      ],
      "metadata": {
        "id": "3-FnLI7Cjtia"
      }
    },
    {
      "cell_type": "code",
      "source": [
        "import tensorflow as tf\n",
        "print(tf.__version__)"
      ],
      "metadata": {
        "colab": {
          "base_uri": "https://localhost:8080/"
        },
        "id": "aLXJMhQ8jw2C",
        "outputId": "e6589e26-1f00-48a2-eb49-4b712018b642"
      },
      "execution_count": null,
      "outputs": [
        {
          "output_type": "stream",
          "name": "stdout",
          "text": [
            "2.15.0\n"
          ]
        }
      ]
    },
    {
      "cell_type": "code",
      "source": [
        "# creating tensors\n",
        "scalar = tf.constant(7)\n",
        "print(scalar)"
      ],
      "metadata": {
        "colab": {
          "base_uri": "https://localhost:8080/"
        },
        "id": "rzoU0htxj7IG",
        "outputId": "8af29b62-3158-404c-9899-e167fd54d5aa"
      },
      "execution_count": null,
      "outputs": [
        {
          "output_type": "stream",
          "name": "stdout",
          "text": [
            "tf.Tensor(7, shape=(), dtype=int32)\n"
          ]
        }
      ]
    },
    {
      "cell_type": "code",
      "source": [
        "#dims of tensor (ndim)\n",
        "print(scalar.ndim)"
      ],
      "metadata": {
        "colab": {
          "base_uri": "https://localhost:8080/"
        },
        "id": "6Ee1R4f4kQ88",
        "outputId": "54ef87bc-5f15-4dc0-bc95-e9280ace33a6"
      },
      "execution_count": null,
      "outputs": [
        {
          "output_type": "stream",
          "name": "stdout",
          "text": [
            "0\n"
          ]
        }
      ]
    },
    {
      "cell_type": "code",
      "source": [
        "#create vector\n",
        "vector = tf.constant([10,10])\n",
        "print(vector)\n",
        "print(vector.ndim)"
      ],
      "metadata": {
        "colab": {
          "base_uri": "https://localhost:8080/"
        },
        "id": "Ec4l8_WOkXJe",
        "outputId": "bb49cfa4-0d44-4f3a-d2cc-53a7bfd97f20"
      },
      "execution_count": null,
      "outputs": [
        {
          "output_type": "stream",
          "name": "stdout",
          "text": [
            "tf.Tensor([10 10], shape=(2,), dtype=int32)\n",
            "1\n"
          ]
        }
      ]
    },
    {
      "cell_type": "code",
      "source": [
        "#create a matrix\n",
        "matrix = tf.constant([[10,7],\n",
        "                      [4,4]])\n",
        "print(matrix)\n",
        "print(matrix.ndim)"
      ],
      "metadata": {
        "colab": {
          "base_uri": "https://localhost:8080/"
        },
        "id": "3P-4m05hkkQG",
        "outputId": "0159d1de-ec90-495f-d0c4-3ab8d1819d8a"
      },
      "execution_count": null,
      "outputs": [
        {
          "output_type": "stream",
          "name": "stdout",
          "text": [
            "tf.Tensor(\n",
            "[[10  7]\n",
            " [ 4  4]], shape=(2, 2), dtype=int32)\n",
            "2\n"
          ]
        }
      ]
    },
    {
      "cell_type": "code",
      "source": [
        "m2 = tf.constant([[4.,4.],\n",
        "                  [2.,2.],\n",
        "                  [2.0,-1.3]\n",
        "                ], dtype= tf.float16)\n",
        "print(m2)\n",
        "print(m2.ndim)"
      ],
      "metadata": {
        "colab": {
          "base_uri": "https://localhost:8080/"
        },
        "id": "jxAysD5rk4Zw",
        "outputId": "4fe20bde-bbb5-4629-f344-b65db8ce7643"
      },
      "execution_count": null,
      "outputs": [
        {
          "output_type": "stream",
          "name": "stdout",
          "text": [
            "tf.Tensor(\n",
            "[[ 4.   4. ]\n",
            " [ 2.   2. ]\n",
            " [ 2.  -1.3]], shape=(3, 2), dtype=float16)\n",
            "2\n"
          ]
        }
      ]
    },
    {
      "cell_type": "code",
      "source": [
        "#creating a tensor\n",
        "tensor = tf.constant([[[1,2,3],[4,5,6]],[[7,8,9,],[10,11,12]],[[13,14,15],[16,17,18]]])\n",
        "print(tensor)\n",
        "print(tensor.ndim)"
      ],
      "metadata": {
        "colab": {
          "base_uri": "https://localhost:8080/"
        },
        "id": "t2Ki8TO9lbby",
        "outputId": "7f16aebc-3bfe-49f1-ef80-ef15c7572aeb"
      },
      "execution_count": null,
      "outputs": [
        {
          "output_type": "stream",
          "name": "stdout",
          "text": [
            "tf.Tensor(\n",
            "[[[ 1  2  3]\n",
            "  [ 4  5  6]]\n",
            "\n",
            " [[ 7  8  9]\n",
            "  [10 11 12]]\n",
            "\n",
            " [[13 14 15]\n",
            "  [16 17 18]]], shape=(3, 2, 3), dtype=int32)\n",
            "3\n"
          ]
        }
      ]
    },
    {
      "cell_type": "markdown",
      "source": [
        "* Scalar: single num\n",
        "* vector: number with direction\n",
        "* matrix: 2d array\n",
        "* tensor: n-dim array"
      ],
      "metadata": {
        "id": "7nO8i1ESmYMN"
      }
    },
    {
      "cell_type": "markdown",
      "source": [
        "### creating tensors with `tf.Variable`"
      ],
      "metadata": {
        "id": "XSrb1LNXmtq5"
      }
    },
    {
      "cell_type": "code",
      "source": [
        "#create the same tensor as tf.Varaible\n",
        "changeable_tensor = tf.Variable([10,7])\n",
        "unchangeable_tensor = tf.constant([10,7])\n",
        "print(changeable_tensor, '\\n', unchangeable_tensor)"
      ],
      "metadata": {
        "colab": {
          "base_uri": "https://localhost:8080/"
        },
        "id": "LiR2nhtgm0h8",
        "outputId": "98a1d7aa-5fb3-4822-c795-b6ec44eb3013"
      },
      "execution_count": null,
      "outputs": [
        {
          "output_type": "stream",
          "name": "stdout",
          "text": [
            "<tf.Variable 'Variable:0' shape=(2,) dtype=int32, numpy=array([10,  7], dtype=int32)> \n",
            " tf.Tensor([10  7], shape=(2,), dtype=int32)\n"
          ]
        }
      ]
    },
    {
      "cell_type": "code",
      "source": [
        "#change elements of changable\n",
        "changeable_tensor[0] = 4\n",
        "print(changeable_tensor)"
      ],
      "metadata": {
        "colab": {
          "base_uri": "https://localhost:8080/",
          "height": 176
        },
        "id": "VpGIUkpUnZca",
        "outputId": "66ea3199-bc64-4e0f-ca82-c7dfe1ac7380"
      },
      "execution_count": null,
      "outputs": [
        {
          "output_type": "error",
          "ename": "TypeError",
          "evalue": "'ResourceVariable' object does not support item assignment",
          "traceback": [
            "\u001b[0;31m---------------------------------------------------------------------------\u001b[0m",
            "\u001b[0;31mTypeError\u001b[0m                                 Traceback (most recent call last)",
            "\u001b[0;32m<ipython-input-18-8a5f983a9285>\u001b[0m in \u001b[0;36m<cell line: 2>\u001b[0;34m()\u001b[0m\n\u001b[1;32m      1\u001b[0m \u001b[0;31m#change elements of changable\u001b[0m\u001b[0;34m\u001b[0m\u001b[0;34m\u001b[0m\u001b[0m\n\u001b[0;32m----> 2\u001b[0;31m \u001b[0mchangeable_tensor\u001b[0m\u001b[0;34m[\u001b[0m\u001b[0;36m0\u001b[0m\u001b[0;34m]\u001b[0m \u001b[0;34m=\u001b[0m \u001b[0;36m4\u001b[0m\u001b[0;34m\u001b[0m\u001b[0;34m\u001b[0m\u001b[0m\n\u001b[0m\u001b[1;32m      3\u001b[0m \u001b[0mprint\u001b[0m\u001b[0;34m(\u001b[0m\u001b[0mchangeable_tensor\u001b[0m\u001b[0;34m)\u001b[0m\u001b[0;34m\u001b[0m\u001b[0;34m\u001b[0m\u001b[0m\n",
            "\u001b[0;31mTypeError\u001b[0m: 'ResourceVariable' object does not support item assignment"
          ]
        }
      ]
    },
    {
      "cell_type": "code",
      "source": [
        "#correct syntax:\n",
        "changeable_tensor[0].assign(4)\n",
        "print(changeable_tensor)"
      ],
      "metadata": {
        "colab": {
          "base_uri": "https://localhost:8080/"
        },
        "id": "p6SwSdg5nms8",
        "outputId": "bd35b8ea-1fe8-485f-9e9c-4b81df50dc26"
      },
      "execution_count": null,
      "outputs": [
        {
          "output_type": "stream",
          "name": "stdout",
          "text": [
            "<tf.Variable 'Variable:0' shape=(2,) dtype=int32, numpy=array([4, 7], dtype=int32)>\n"
          ]
        }
      ]
    },
    {
      "cell_type": "code",
      "source": [
        "#in unchangeable:\n",
        "unchangeable_tensor[0].assign(4)\n",
        "print(unchangeable_tensor)"
      ],
      "metadata": {
        "colab": {
          "base_uri": "https://localhost:8080/",
          "height": 297
        },
        "id": "CcEK80E-nurm",
        "outputId": "7470e4f7-9e97-4a1e-eded-8ce9b9da6ce1"
      },
      "execution_count": null,
      "outputs": [
        {
          "output_type": "error",
          "ename": "AttributeError",
          "evalue": "'tensorflow.python.framework.ops.EagerTensor' object has no attribute 'assign'",
          "traceback": [
            "\u001b[0;31m---------------------------------------------------------------------------\u001b[0m",
            "\u001b[0;31mAttributeError\u001b[0m                            Traceback (most recent call last)",
            "\u001b[0;32m<ipython-input-20-f8205448a84a>\u001b[0m in \u001b[0;36m<cell line: 2>\u001b[0;34m()\u001b[0m\n\u001b[1;32m      1\u001b[0m \u001b[0;31m#in unchangeable:\u001b[0m\u001b[0;34m\u001b[0m\u001b[0;34m\u001b[0m\u001b[0m\n\u001b[0;32m----> 2\u001b[0;31m \u001b[0munchangeable_tensor\u001b[0m\u001b[0;34m[\u001b[0m\u001b[0;36m0\u001b[0m\u001b[0;34m]\u001b[0m\u001b[0;34m.\u001b[0m\u001b[0massign\u001b[0m\u001b[0;34m(\u001b[0m\u001b[0;36m4\u001b[0m\u001b[0;34m)\u001b[0m\u001b[0;34m\u001b[0m\u001b[0;34m\u001b[0m\u001b[0m\n\u001b[0m\u001b[1;32m      3\u001b[0m \u001b[0mprint\u001b[0m\u001b[0;34m(\u001b[0m\u001b[0munchangeable_tensor\u001b[0m\u001b[0;34m)\u001b[0m\u001b[0;34m\u001b[0m\u001b[0;34m\u001b[0m\u001b[0m\n",
            "\u001b[0;32m/usr/local/lib/python3.10/dist-packages/tensorflow/python/framework/tensor.py\u001b[0m in \u001b[0;36m__getattr__\u001b[0;34m(self, name)\u001b[0m\n\u001b[1;32m    259\u001b[0m         \u001b[0mtf\u001b[0m\u001b[0;34m.\u001b[0m\u001b[0mexperimental\u001b[0m\u001b[0;34m.\u001b[0m\u001b[0mnumpy\u001b[0m\u001b[0;34m.\u001b[0m\u001b[0mexperimental_enable_numpy_behavior\u001b[0m\u001b[0;34m(\u001b[0m\u001b[0;34m)\u001b[0m\u001b[0;34m\u001b[0m\u001b[0;34m\u001b[0m\u001b[0m\n\u001b[1;32m    260\u001b[0m       \"\"\")\n\u001b[0;32m--> 261\u001b[0;31m     \u001b[0mself\u001b[0m\u001b[0;34m.\u001b[0m\u001b[0m__getattribute__\u001b[0m\u001b[0;34m(\u001b[0m\u001b[0mname\u001b[0m\u001b[0;34m)\u001b[0m\u001b[0;34m\u001b[0m\u001b[0;34m\u001b[0m\u001b[0m\n\u001b[0m\u001b[1;32m    262\u001b[0m \u001b[0;34m\u001b[0m\u001b[0m\n\u001b[1;32m    263\u001b[0m   \u001b[0;34m@\u001b[0m\u001b[0mproperty\u001b[0m\u001b[0;34m\u001b[0m\u001b[0;34m\u001b[0m\u001b[0m\n",
            "\u001b[0;31mAttributeError\u001b[0m: 'tensorflow.python.framework.ops.EagerTensor' object has no attribute 'assign'"
          ]
        }
      ]
    },
    {
      "cell_type": "markdown",
      "source": [
        "### Creating random tensors"
      ],
      "metadata": {
        "id": "KSzH97mzoRF3"
      }
    },
    {
      "cell_type": "code",
      "source": [
        "#create two random (equal) tensors\n",
        "rand1 = tf.random.Generator.from_seed(42)\n",
        "rand1 = rand1.normal(shape=(3,2)) #uses normal distribution for random numbers\n",
        "print(rand1)\n",
        "rand2 =  tf.random.Generator.from_seed(42)\n",
        "rand2 = rand2.normal(shape=(3,2))\n",
        "print(rand2)\n",
        "\n",
        "print(rand1==rand2)\n",
        "\n",
        "#create two random (equal) tensors\n",
        "rand1 = tf.random.Generator.from_seed(1)\n",
        "rand1 = rand1.normal(shape=(3,2)) #uses normal distribution for random numbers\n",
        "#print(rand1)\n",
        "rand2 =  tf.random.Generator.from_seed(2)\n",
        "rand2 = rand2.normal(shape=(3,2))\n",
        "#print(rand2)\n",
        "\n",
        "print(rand1==rand2)"
      ],
      "metadata": {
        "colab": {
          "base_uri": "https://localhost:8080/"
        },
        "id": "NgtzSsRsodKf",
        "outputId": "0acfdf05-88f6-4e60-ef28-eda109370287"
      },
      "execution_count": null,
      "outputs": [
        {
          "output_type": "stream",
          "name": "stdout",
          "text": [
            "tf.Tensor(\n",
            "[[-0.7565803  -0.06854702]\n",
            " [ 0.07595026 -1.2573844 ]\n",
            " [-0.23193763 -1.8107855 ]], shape=(3, 2), dtype=float32)\n",
            "tf.Tensor(\n",
            "[[-0.7565803  -0.06854702]\n",
            " [ 0.07595026 -1.2573844 ]\n",
            " [-0.23193763 -1.8107855 ]], shape=(3, 2), dtype=float32)\n",
            "tf.Tensor(\n",
            "[[ True  True]\n",
            " [ True  True]\n",
            " [ True  True]], shape=(3, 2), dtype=bool)\n",
            "tf.Tensor(\n",
            "[[False False]\n",
            " [False False]\n",
            " [False False]], shape=(3, 2), dtype=bool)\n"
          ]
        }
      ]
    },
    {
      "cell_type": "markdown",
      "source": [
        "### Shuffle order of elements in a tensor"
      ],
      "metadata": {
        "id": "GLazMiSlrUGS"
      }
    },
    {
      "cell_type": "code",
      "source": [
        "# shuffle a tensor\n",
        "not_shuffled = tf.constant([[4,4],\n",
        "                            [2,3],\n",
        "                            [0,7]]\n",
        "                           )\n",
        "print(not_shuffled)\n",
        "shuffled = tf.random.shuffle(not_shuffled, seed = 42) #randomly shuffles along first dimension\n",
        "#notice how even after setting seed values change evertime its run.\n",
        "#seeds are ran on global and operational level, to change global seed: tf.random.set_seed(42)\n",
        "print(shuffled)"
      ],
      "metadata": {
        "colab": {
          "base_uri": "https://localhost:8080/"
        },
        "id": "jxiX6J3LrUwX",
        "outputId": "ff03b804-6cf3-4817-d97c-a2069bf07f09"
      },
      "execution_count": null,
      "outputs": [
        {
          "output_type": "stream",
          "name": "stdout",
          "text": [
            "tf.Tensor(\n",
            "[[4 4]\n",
            " [2 3]\n",
            " [0 7]], shape=(3, 2), dtype=int32)\n",
            "tf.Tensor(\n",
            "[[2 3]\n",
            " [0 7]\n",
            " [4 4]], shape=(3, 2), dtype=int32)\n"
          ]
        }
      ]
    },
    {
      "cell_type": "code",
      "source": [
        "tf.random.set_seed(4)\n",
        "tf.random.shuffle(not_shuffled, seed = 4)\n"
      ],
      "metadata": {
        "colab": {
          "base_uri": "https://localhost:8080/"
        },
        "id": "uacKT8DDt6G7",
        "outputId": "42415696-11d4-4847-c110-663cfb43d633"
      },
      "execution_count": null,
      "outputs": [
        {
          "output_type": "execute_result",
          "data": {
            "text/plain": [
              "<tf.Tensor: shape=(3, 2), dtype=int32, numpy=\n",
              "array([[4, 4],\n",
              "       [2, 3],\n",
              "       [0, 7]], dtype=int32)>"
            ]
          },
          "metadata": {},
          "execution_count": 58
        }
      ]
    },
    {
      "cell_type": "markdown",
      "source": [
        "### Creating tensors from numpy arrays"
      ],
      "metadata": {
        "id": "fKAYLJ6ftr17"
      }
    },
    {
      "cell_type": "code",
      "source": [
        "ones = tf.ones([2,4]) #create tensor of all 1s\n",
        "print(ones)\n",
        "zeros = tf.zeros([2,4]) #create tensor of all 1s\n",
        "print(zeros)\n",
        "\n",
        "#turn numpy arrays to tensors\n",
        "#tensors can be run on GPUs much faster!\n",
        "import numpy as np\n",
        "numpy_A = np.arange(1,25,dtype=np.int32)\n",
        "print(numpy_A)\n",
        "A = tf.constant(numpy_A, shape = (2,3,4)) #we can modify shape, SHAPE MUST LINE UP WITH NUM ELEMENTS\n",
        "print(A)"
      ],
      "metadata": {
        "colab": {
          "base_uri": "https://localhost:8080/"
        },
        "id": "HqnW0KNcvAYv",
        "outputId": "55f82348-2add-4a39-950e-3015e678766d"
      },
      "execution_count": null,
      "outputs": [
        {
          "output_type": "stream",
          "name": "stdout",
          "text": [
            "tf.Tensor(\n",
            "[[1. 1. 1. 1.]\n",
            " [1. 1. 1. 1.]], shape=(2, 4), dtype=float32)\n",
            "tf.Tensor(\n",
            "[[0. 0. 0. 0.]\n",
            " [0. 0. 0. 0.]], shape=(2, 4), dtype=float32)\n",
            "[ 1  2  3  4  5  6  7  8  9 10 11 12 13 14 15 16 17 18 19 20 21 22 23 24]\n",
            "tf.Tensor(\n",
            "[[[ 1  2  3  4]\n",
            "  [ 5  6  7  8]\n",
            "  [ 9 10 11 12]]\n",
            "\n",
            " [[13 14 15 16]\n",
            "  [17 18 19 20]\n",
            "  [21 22 23 24]]], shape=(2, 3, 4), dtype=int32)\n"
          ]
        }
      ]
    },
    {
      "cell_type": "markdown",
      "source": [
        "### Getting info from tensors\n",
        "* shape `tensor.shape`\n",
        "* rank `tensor.ndim`\n",
        "* axis / dim `tensor[0]`\n",
        "* size `tensor.size`"
      ],
      "metadata": {
        "id": "kxXMPft2wJ7j"
      }
    },
    {
      "cell_type": "code",
      "source": [
        "#create a rank 4 tensor (4 dimensions)\n",
        "rank_4_tensor = tf.zeros([2,3,4,5])\n",
        "print(rank_4_tensor)"
      ],
      "metadata": {
        "colab": {
          "base_uri": "https://localhost:8080/"
        },
        "id": "BWtq69iawRXz",
        "outputId": "b11b13e8-6d83-4f9e-9529-3bfc8a9f8610"
      },
      "execution_count": null,
      "outputs": [
        {
          "output_type": "stream",
          "name": "stdout",
          "text": [
            "tf.Tensor(\n",
            "[[[[0. 0. 0. 0. 0.]\n",
            "   [0. 0. 0. 0. 0.]\n",
            "   [0. 0. 0. 0. 0.]\n",
            "   [0. 0. 0. 0. 0.]]\n",
            "\n",
            "  [[0. 0. 0. 0. 0.]\n",
            "   [0. 0. 0. 0. 0.]\n",
            "   [0. 0. 0. 0. 0.]\n",
            "   [0. 0. 0. 0. 0.]]\n",
            "\n",
            "  [[0. 0. 0. 0. 0.]\n",
            "   [0. 0. 0. 0. 0.]\n",
            "   [0. 0. 0. 0. 0.]\n",
            "   [0. 0. 0. 0. 0.]]]\n",
            "\n",
            "\n",
            " [[[0. 0. 0. 0. 0.]\n",
            "   [0. 0. 0. 0. 0.]\n",
            "   [0. 0. 0. 0. 0.]\n",
            "   [0. 0. 0. 0. 0.]]\n",
            "\n",
            "  [[0. 0. 0. 0. 0.]\n",
            "   [0. 0. 0. 0. 0.]\n",
            "   [0. 0. 0. 0. 0.]\n",
            "   [0. 0. 0. 0. 0.]]\n",
            "\n",
            "  [[0. 0. 0. 0. 0.]\n",
            "   [0. 0. 0. 0. 0.]\n",
            "   [0. 0. 0. 0. 0.]\n",
            "   [0. 0. 0. 0. 0.]]]], shape=(2, 3, 4, 5), dtype=float32)\n"
          ]
        }
      ]
    },
    {
      "cell_type": "code",
      "source": [
        "print(rank_4_tensor[0])"
      ],
      "metadata": {
        "colab": {
          "base_uri": "https://localhost:8080/"
        },
        "id": "1HlfweNQz5pZ",
        "outputId": "3b23a608-24b6-4a68-8836-961dcd7fdb71"
      },
      "execution_count": null,
      "outputs": [
        {
          "output_type": "stream",
          "name": "stdout",
          "text": [
            "tf.Tensor(\n",
            "[[[0. 0. 0. 0. 0.]\n",
            "  [0. 0. 0. 0. 0.]\n",
            "  [0. 0. 0. 0. 0.]\n",
            "  [0. 0. 0. 0. 0.]]\n",
            "\n",
            " [[0. 0. 0. 0. 0.]\n",
            "  [0. 0. 0. 0. 0.]\n",
            "  [0. 0. 0. 0. 0.]\n",
            "  [0. 0. 0. 0. 0.]]\n",
            "\n",
            " [[0. 0. 0. 0. 0.]\n",
            "  [0. 0. 0. 0. 0.]\n",
            "  [0. 0. 0. 0. 0.]\n",
            "  [0. 0. 0. 0. 0.]]], shape=(3, 4, 5), dtype=float32)\n"
          ]
        }
      ]
    },
    {
      "cell_type": "code",
      "source": [
        "print(f\"shape: {rank_4_tensor.shape}\\nndim: {rank_4_tensor.ndim}\\nsize:{ tf.size(rank_4_tensor)}\")"
      ],
      "metadata": {
        "colab": {
          "base_uri": "https://localhost:8080/"
        },
        "id": "DRjH82mm0WFP",
        "outputId": "64d3b416-14d9-4c16-a528-d0caac94c49c"
      },
      "execution_count": null,
      "outputs": [
        {
          "output_type": "stream",
          "name": "stdout",
          "text": [
            "shape: (2, 3, 4, 5)\n",
            "ndim: 4\n",
            "size:120\n"
          ]
        }
      ]
    },
    {
      "cell_type": "code",
      "source": [
        "#get attributes of tensor:\n",
        "print(\"datatype: \", rank_4_tensor.dtype)\n",
        "print(f\"shape: {rank_4_tensor.shape}\\nndim: {rank_4_tensor.ndim}\\nsize:{ tf.size(rank_4_tensor)}\")\n",
        "print(\"elements along 0 axis: \", rank_4_tensor.shape[0])\n",
        "print(\"elenets along last axis: \", rank_4_tensor.shape[-1])"
      ],
      "metadata": {
        "colab": {
          "base_uri": "https://localhost:8080/"
        },
        "id": "GVoggR9a08PN",
        "outputId": "d7103d9a-10ac-49f0-c91e-207274608d02"
      },
      "execution_count": null,
      "outputs": [
        {
          "output_type": "stream",
          "name": "stdout",
          "text": [
            "datatype:  <dtype: 'float32'>\n",
            "shape: (2, 3, 4, 5)\n",
            "ndim: 4\n",
            "size:120\n",
            "elements along 0 axis:  2\n",
            "elenets along last axis:  5\n"
          ]
        }
      ]
    },
    {
      "cell_type": "markdown",
      "source": [
        "### Indexing on tensors\n",
        "done just like python lists"
      ],
      "metadata": {
        "id": "302a9qvg0_I2"
      }
    },
    {
      "cell_type": "code",
      "source": [
        "#get first 2 elems of each dimension\n",
        "print(rank_4_tensor[ :2, :2, :2, :2])"
      ],
      "metadata": {
        "colab": {
          "base_uri": "https://localhost:8080/"
        },
        "id": "aBkHbGn92Eyr",
        "outputId": "3703e628-d9d9-4ed9-ff8c-80251fa7448c"
      },
      "execution_count": null,
      "outputs": [
        {
          "output_type": "execute_result",
          "data": {
            "text/plain": [
              "<tf.Tensor: shape=(2, 2, 2, 2), dtype=float32, numpy=\n",
              "array([[[[0., 0.],\n",
              "         [0., 0.]],\n",
              "\n",
              "        [[0., 0.],\n",
              "         [0., 0.]]],\n",
              "\n",
              "\n",
              "       [[[0., 0.],\n",
              "         [0., 0.]],\n",
              "\n",
              "        [[0., 0.],\n",
              "         [0., 0.]]]], dtype=float32)>"
            ]
          },
          "metadata": {},
          "execution_count": 80
        }
      ]
    },
    {
      "cell_type": "code",
      "source": [
        "# get first element from each dimension except the final one\n",
        "print(rank_4_tensor[:1, :1, :1, :])"
      ],
      "metadata": {
        "colab": {
          "base_uri": "https://localhost:8080/"
        },
        "id": "5QO2SamU2loe",
        "outputId": "3df87625-cee7-4c5e-ea0b-7558e60abab8"
      },
      "execution_count": null,
      "outputs": [
        {
          "output_type": "stream",
          "name": "stdout",
          "text": [
            "tf.Tensor([[[[0. 0. 0. 0. 0.]]]], shape=(1, 1, 1, 5), dtype=float32)\n"
          ]
        }
      ]
    },
    {
      "cell_type": "code",
      "source": [
        "# get first element from each dimension except the second last one\n",
        "print(rank_4_tensor[:1, :1, :, :1])"
      ],
      "metadata": {
        "colab": {
          "base_uri": "https://localhost:8080/"
        },
        "id": "aEsbODOA2-Le",
        "outputId": "5cf7e36b-86a5-4fcc-e386-7af31caeaab4"
      },
      "execution_count": null,
      "outputs": [
        {
          "output_type": "stream",
          "name": "stdout",
          "text": [
            "tf.Tensor(\n",
            "[[[[0.]\n",
            "   [0.]\n",
            "   [0.]\n",
            "   [0.]]]], shape=(1, 1, 4, 1), dtype=float32)\n"
          ]
        }
      ]
    },
    {
      "cell_type": "code",
      "source": [
        "# create a rank 2 tensor\n",
        "rank2 = tf.constant([[1,2],\n",
        "                    [4,2]])\n",
        "print(rank2)\n",
        "#get last item of each row\n",
        "print(rank2[:,-1])"
      ],
      "metadata": {
        "colab": {
          "base_uri": "https://localhost:8080/"
        },
        "id": "KZD2WfyC3Jf6",
        "outputId": "ed5204ed-0b8e-4863-cc20-af6859b1a886"
      },
      "execution_count": null,
      "outputs": [
        {
          "output_type": "stream",
          "name": "stdout",
          "text": [
            "tf.Tensor(\n",
            "[[1 2]\n",
            " [4 2]], shape=(2, 2), dtype=int32)\n",
            "tf.Tensor([2 2], shape=(2,), dtype=int32)\n"
          ]
        }
      ]
    },
    {
      "cell_type": "code",
      "source": [
        "#add extra dimension to rank2 tensor\n",
        "rank3 = rank2[...,tf.newaxis] #rank2[:,:, tf.newaxis]\n",
        "print(rank3)"
      ],
      "metadata": {
        "colab": {
          "base_uri": "https://localhost:8080/"
        },
        "id": "zZ9ZVlEo3rF-",
        "outputId": "678e62f8-aff4-48d3-876a-23d7ed1093ab"
      },
      "execution_count": null,
      "outputs": [
        {
          "output_type": "stream",
          "name": "stdout",
          "text": [
            "tf.Tensor(\n",
            "[[[1]\n",
            "  [2]]\n",
            "\n",
            " [[4]\n",
            "  [2]]], shape=(2, 2, 1), dtype=int32)\n"
          ]
        }
      ]
    },
    {
      "cell_type": "code",
      "source": [
        "#alternative:\n",
        "print(tf.expand_dims(rank2, axis=-1)) #-1 means last axis"
      ],
      "metadata": {
        "colab": {
          "base_uri": "https://localhost:8080/"
        },
        "id": "13Pk0vXt4O1u",
        "outputId": "482b6d7d-9d15-482c-cf8a-4dacac208045"
      },
      "execution_count": null,
      "outputs": [
        {
          "output_type": "stream",
          "name": "stdout",
          "text": [
            "tf.Tensor(\n",
            "[[[1]\n",
            "  [2]]\n",
            "\n",
            " [[4]\n",
            "  [2]]], shape=(2, 2, 1), dtype=int32)\n"
          ]
        }
      ]
    },
    {
      "cell_type": "code",
      "source": [
        "#alternative:\n",
        "print(tf.expand_dims(rank2, axis=0))"
      ],
      "metadata": {
        "colab": {
          "base_uri": "https://localhost:8080/"
        },
        "id": "gwUfKMBT4dTy",
        "outputId": "533a1646-9b3f-4eed-c915-578c01e72170"
      },
      "execution_count": null,
      "outputs": [
        {
          "output_type": "stream",
          "name": "stdout",
          "text": [
            "tf.Tensor(\n",
            "[[[1 2]\n",
            "  [4 2]]], shape=(1, 2, 2), dtype=int32)\n"
          ]
        }
      ]
    },
    {
      "cell_type": "markdown",
      "source": [
        "### Tensor Operations\n",
        "* basic operations: `+`,`-`,`*`,`/`"
      ],
      "metadata": {
        "id": "YwJHsiCG4s4Y"
      }
    },
    {
      "cell_type": "code",
      "source": [
        "#you can add values to a tensor using addition operator\n",
        "tensor = tf.constant([[1,2],[3,4]])\n",
        "print(tensor)\n",
        "print(tensor + 10)"
      ],
      "metadata": {
        "colab": {
          "base_uri": "https://localhost:8080/"
        },
        "id": "E3G-SGg94v5U",
        "outputId": "623e0d78-615d-4781-ebec-93de9fe5b2ac"
      },
      "execution_count": null,
      "outputs": [
        {
          "output_type": "stream",
          "name": "stdout",
          "text": [
            "tf.Tensor(\n",
            "[[1 2]\n",
            " [3 4]], shape=(2, 2), dtype=int32)\n",
            "tf.Tensor(\n",
            "[[11 12]\n",
            " [13 14]], shape=(2, 2), dtype=int32)\n"
          ]
        }
      ]
    },
    {
      "cell_type": "code",
      "source": [
        "print(tensor - 10)"
      ],
      "metadata": {
        "colab": {
          "base_uri": "https://localhost:8080/"
        },
        "id": "gBz75Vr46eFG",
        "outputId": "ef46b231-4751-4d65-f72d-484c57bb4cba"
      },
      "execution_count": null,
      "outputs": [
        {
          "output_type": "stream",
          "name": "stdout",
          "text": [
            "tf.Tensor(\n",
            "[[-9 -8]\n",
            " [-7 -6]], shape=(2, 2), dtype=int32)\n"
          ]
        }
      ]
    },
    {
      "cell_type": "code",
      "source": [
        "#we can use tf built in functions too\n",
        "print(tensor*10)\n",
        "print(tf.multiply(tensor,10)) #USE THIS IT IS FASTER"
      ],
      "metadata": {
        "colab": {
          "base_uri": "https://localhost:8080/"
        },
        "id": "MJ_EK4hA6g3X",
        "outputId": "018e2e6a-247b-4798-d5ee-30db4dd0e3e5"
      },
      "execution_count": null,
      "outputs": [
        {
          "output_type": "stream",
          "name": "stdout",
          "text": [
            "tf.Tensor(\n",
            "[[10 20]\n",
            " [30 40]], shape=(2, 2), dtype=int32)\n",
            "tf.Tensor(\n",
            "[[10 20]\n",
            " [30 40]], shape=(2, 2), dtype=int32)\n"
          ]
        }
      ]
    },
    {
      "cell_type": "code",
      "source": [
        "# Matrix Multiplication\n",
        "# recall: ixj @ jxk (must be valid for matrix multiplications dimensions)\n",
        "#recall: resulting matrix will be ixk\n",
        "print(tensor)\n",
        "print(tensor * tensor)\n",
        "print(tensor @ tensor) #python syntax\n",
        "print(tf.matmul(tensor,tensor)) #tf syntax\n",
        "print(tf.tensordot(tensor,tensor, axes = 1))\n",
        "\n",
        "#ifn dif dimensions:\n",
        "# X @ tf.reshape(Y, shape=(2,3))"
      ],
      "metadata": {
        "colab": {
          "base_uri": "https://localhost:8080/"
        },
        "id": "dO9usClUDGK0",
        "outputId": "4002713c-ed4b-42be-8095-06dd52a95ca4"
      },
      "execution_count": null,
      "outputs": [
        {
          "output_type": "stream",
          "name": "stdout",
          "text": [
            "tf.Tensor(\n",
            "[[1 2]\n",
            " [3 4]], shape=(2, 2), dtype=int32)\n",
            "tf.Tensor(\n",
            "[[ 1  4]\n",
            " [ 9 16]], shape=(2, 2), dtype=int32)\n",
            "tf.Tensor(\n",
            "[[ 7 10]\n",
            " [15 22]], shape=(2, 2), dtype=int32)\n",
            "tf.Tensor(\n",
            "[[ 7 10]\n",
            " [15 22]], shape=(2, 2), dtype=int32)\n",
            "tf.Tensor(\n",
            "[[ 7 10]\n",
            " [15 22]], shape=(2, 2), dtype=int32)\n"
          ]
        }
      ]
    },
    {
      "cell_type": "code",
      "source": [
        "tf.transpose(tensor)"
      ],
      "metadata": {
        "colab": {
          "base_uri": "https://localhost:8080/"
        },
        "id": "HKTT9XdvFOFz",
        "outputId": "dc5ef51d-b0e1-4db9-d304-25f47c2a1b2f"
      },
      "execution_count": null,
      "outputs": [
        {
          "output_type": "execute_result",
          "data": {
            "text/plain": [
              "<tf.Tensor: shape=(2, 2), dtype=int32, numpy=\n",
              "array([[1, 3],\n",
              "       [2, 4]], dtype=int32)>"
            ]
          },
          "metadata": {},
          "execution_count": 102
        }
      ]
    },
    {
      "cell_type": "markdown",
      "source": [
        "### changing dtype\n"
      ],
      "metadata": {
        "id": "RINT0SIzGqDG"
      }
    },
    {
      "cell_type": "code",
      "source": [
        "tensor.dtype"
      ],
      "metadata": {
        "colab": {
          "base_uri": "https://localhost:8080/"
        },
        "id": "o_VihCwKHItj",
        "outputId": "9b4602c0-ef9f-4542-e7e6-e366af7025cd"
      },
      "execution_count": null,
      "outputs": [
        {
          "output_type": "execute_result",
          "data": {
            "text/plain": [
              "tf.int32"
            ]
          },
          "metadata": {},
          "execution_count": 106
        }
      ]
    },
    {
      "cell_type": "code",
      "source": [
        "t = tf.cast(tensor, dtype = tf.int16)\n",
        "t.dtype"
      ],
      "metadata": {
        "colab": {
          "base_uri": "https://localhost:8080/"
        },
        "id": "St1DnFBOHJoy",
        "outputId": "0b2b580a-1d9c-4edb-bb05-a79aec945699"
      },
      "execution_count": null,
      "outputs": [
        {
          "output_type": "execute_result",
          "data": {
            "text/plain": [
              "tf.int16"
            ]
          },
          "metadata": {},
          "execution_count": 107
        }
      ]
    },
    {
      "cell_type": "markdown",
      "source": [
        "### Tensor Aggregation: condensing from multiple values to 1\n",
        "\n"
      ],
      "metadata": {
        "id": "pzgBiPMoHhuF"
      }
    },
    {
      "cell_type": "code",
      "source": [
        "#get abs value\n",
        "D = tf.constant([4,-4])\n",
        "tf.abs(D)"
      ],
      "metadata": {
        "colab": {
          "base_uri": "https://localhost:8080/"
        },
        "id": "5JzK8NI9Hljd",
        "outputId": "d1db52b7-20b0-4b8a-962e-7fd4d609d42b"
      },
      "execution_count": null,
      "outputs": [
        {
          "output_type": "execute_result",
          "data": {
            "text/plain": [
              "<tf.Tensor: shape=(2,), dtype=int32, numpy=array([4, 4], dtype=int32)>"
            ]
          },
          "metadata": {},
          "execution_count": 109
        }
      ]
    },
    {
      "cell_type": "code",
      "source": [
        "A = tf.constant(np.random.randint(-100.0,100.0, size = 24))\n",
        "print(A.shape)\n",
        "print(f\"min: {tf.reduce_min(A)}\\nmax: {tf.math.reduce_max(A)}\\nmean: {tf.reduce_mean(A)}\\nsum: {tf.reduce_sum(A)}\") #MUST CAST TO REAL NUMBERT TO DO : #\\nstd dev: {tf.math.reduce_std(A)}\")"
      ],
      "metadata": {
        "colab": {
          "base_uri": "https://localhost:8080/"
        },
        "id": "b-qDjdYRH7sh",
        "outputId": "d10ba82e-01f2-4f79-846f-aed762060ed7"
      },
      "execution_count": null,
      "outputs": [
        {
          "output_type": "stream",
          "name": "stdout",
          "text": [
            "(24,)\n",
            "min: -94\n",
            "max: 99\n",
            "mean: -5\n",
            "sum: -137\n"
          ]
        }
      ]
    },
    {
      "cell_type": "code",
      "source": [
        "#find positional minimal and maximal\n",
        "F = tf.random.uniform(shape=[50])\n",
        "print(F)\n",
        "\n",
        "#find postitional max\n",
        "print(tf.argmax(F)) #GIVES INDEX\n",
        "print(tf.reduce_max(F))\n",
        "\n",
        "F[tf.argmax(F)] == tf.reduce_max(F)\n",
        "\n",
        "#use argmin for similar thing"
      ],
      "metadata": {
        "colab": {
          "base_uri": "https://localhost:8080/"
        },
        "id": "jNjVUIeFK2Wc",
        "outputId": "fd61d128-2fe2-4c3c-bb72-1590a2212b15"
      },
      "execution_count": null,
      "outputs": [
        {
          "output_type": "stream",
          "name": "stdout",
          "text": [
            "tf.Tensor(\n",
            "[0.321496   0.014884   0.7265439  0.21229255 0.954177   0.42605257\n",
            " 0.6750959  0.8877846  0.8355502  0.19438398 0.3097496  0.59535074\n",
            " 0.11542618 0.00473845 0.10168815 0.13327146 0.03558111 0.06747174\n",
            " 0.11534369 0.41941416 0.961166   0.16431046 0.2860483  0.24005973\n",
            " 0.04272425 0.83012426 0.573781   0.72642565 0.8339006  0.5530877\n",
            " 0.35070598 0.44037795 0.43784916 0.87173223 0.6328505  0.3361994\n",
            " 0.16131079 0.64460206 0.9205128  0.6613462  0.09610784 0.58244777\n",
            " 0.78276014 0.868889   0.2035104  0.33408773 0.41502953 0.20325792\n",
            " 0.14838064 0.8390237 ], shape=(50,), dtype=float32)\n",
            "tf.Tensor(20, shape=(), dtype=int64)\n",
            "tf.Tensor(0.961166, shape=(), dtype=float32)\n"
          ]
        },
        {
          "output_type": "execute_result",
          "data": {
            "text/plain": [
              "<tf.Tensor: shape=(), dtype=bool, numpy=True>"
            ]
          },
          "metadata": {},
          "execution_count": 136
        }
      ]
    },
    {
      "cell_type": "markdown",
      "source": [
        "### Squeezing a tensor (removing all single dimensions"
      ],
      "metadata": {
        "id": "Rz1cRv70L0yT"
      }
    },
    {
      "cell_type": "code",
      "source": [
        "G = tf.constant(tf.random.uniform(shape=[50]), shape = (1,1,1,1,50))\n",
        "print(G.shape)\n",
        "G_squeeze = tf.squeeze(G)\n",
        "print(G_squeeze.shape)"
      ],
      "metadata": {
        "colab": {
          "base_uri": "https://localhost:8080/"
        },
        "id": "5nrXweGPL56i",
        "outputId": "512dc095-2fc7-483a-e0ab-fccdaa34cf7a"
      },
      "execution_count": null,
      "outputs": [
        {
          "output_type": "stream",
          "name": "stdout",
          "text": [
            "(1, 1, 1, 1, 50)\n",
            "(50,)\n"
          ]
        }
      ]
    },
    {
      "cell_type": "markdown",
      "source": [
        "### One hot encoding (like asscii representation of letters)"
      ],
      "metadata": {
        "id": "zOcRP5DUMWuT"
      }
    },
    {
      "cell_type": "code",
      "source": [
        "#create list of indeces\n",
        "some_list = [0,1,2,3] #red green blue purple\n",
        "tf.one_hot(some_list, depth = len(some_list))"
      ],
      "metadata": {
        "colab": {
          "base_uri": "https://localhost:8080/"
        },
        "id": "ZCtyPpdLMY0X",
        "outputId": "7f32f51f-5a8e-4997-8821-f92be6c6df79"
      },
      "execution_count": null,
      "outputs": [
        {
          "output_type": "execute_result",
          "data": {
            "text/plain": [
              "<tf.Tensor: shape=(4, 4), dtype=float32, numpy=\n",
              "array([[1., 0., 0., 0.],\n",
              "       [0., 1., 0., 0.],\n",
              "       [0., 0., 1., 0.],\n",
              "       [0., 0., 0., 1.]], dtype=float32)>"
            ]
          },
          "metadata": {},
          "execution_count": 144
        }
      ]
    },
    {
      "cell_type": "markdown",
      "source": [
        "### squaring, log, sqrt"
      ],
      "metadata": {
        "id": "zDgIWwyaNNjd"
      }
    },
    {
      "cell_type": "code",
      "source": [
        "H = tf.range(1,10)\n",
        "print(tf.square(H))\n",
        "print(tf.sqrt(tf.cast(H , tf.float32))) #method requires non int type\n",
        "print(tf.math.log(tf.cast(H , tf.float32)))"
      ],
      "metadata": {
        "colab": {
          "base_uri": "https://localhost:8080/"
        },
        "id": "8GxZp21_NRyA",
        "outputId": "cefff46a-9828-455f-d264-242214a68db9"
      },
      "execution_count": null,
      "outputs": [
        {
          "output_type": "stream",
          "name": "stdout",
          "text": [
            "tf.Tensor([ 1  4  9 16 25 36 49 64 81], shape=(9,), dtype=int32)\n",
            "tf.Tensor(\n",
            "[1.        1.4142135 1.7320508 2.        2.236068  2.4494898 2.6457512\n",
            " 2.828427  3.       ], shape=(9,), dtype=float32)\n",
            "tf.Tensor(\n",
            "[0.        0.6931472 1.0986123 1.3862944 1.609438  1.7917595 1.9459102\n",
            " 2.0794415 2.1972246], shape=(9,), dtype=float32)\n"
          ]
        }
      ]
    },
    {
      "cell_type": "markdown",
      "source": [
        "### Tensors and Numpy"
      ],
      "metadata": {
        "id": "xGcIP230N02s"
      }
    },
    {
      "cell_type": "code",
      "source": [
        "J = tf.constant(np.array([1.0,2.0,4.0]))\n",
        "J"
      ],
      "metadata": {
        "colab": {
          "base_uri": "https://localhost:8080/"
        },
        "id": "02Jga-jON3kE",
        "outputId": "24d86901-eb5e-4623-b129-d8ddee0ca8d3"
      },
      "execution_count": null,
      "outputs": [
        {
          "output_type": "execute_result",
          "data": {
            "text/plain": [
              "<tf.Tensor: shape=(3,), dtype=float64, numpy=array([1., 2., 4.])>"
            ]
          },
          "metadata": {},
          "execution_count": 148
        }
      ]
    },
    {
      "cell_type": "code",
      "source": [
        "np.array(J)"
      ],
      "metadata": {
        "colab": {
          "base_uri": "https://localhost:8080/"
        },
        "id": "J0YUOnZlOBHN",
        "outputId": "93151ef9-654a-4d52-8e8c-1ca4b3876138"
      },
      "execution_count": null,
      "outputs": [
        {
          "output_type": "execute_result",
          "data": {
            "text/plain": [
              "array([1., 2., 4.])"
            ]
          },
          "metadata": {},
          "execution_count": 149
        }
      ]
    },
    {
      "cell_type": "code",
      "source": [
        "J.numpy()"
      ],
      "metadata": {
        "colab": {
          "base_uri": "https://localhost:8080/"
        },
        "id": "xFfHPJC3ODsj",
        "outputId": "17eb0801-de9f-42ae-b868-5125552562a6"
      },
      "execution_count": null,
      "outputs": [
        {
          "output_type": "execute_result",
          "data": {
            "text/plain": [
              "array([1., 2., 4.])"
            ]
          },
          "metadata": {},
          "execution_count": 150
        }
      ]
    },
    {
      "cell_type": "code",
      "source": [
        "J.numpy()[0] #KEEP IN MIND NP HAS DTYPE flaot64, TF HAS DTYPE float32"
      ],
      "metadata": {
        "colab": {
          "base_uri": "https://localhost:8080/"
        },
        "id": "B98bP7n_OMyG",
        "outputId": "6ad5d60f-0164-4ec5-f6e9-14fc47d8c364"
      },
      "execution_count": null,
      "outputs": [
        {
          "output_type": "execute_result",
          "data": {
            "text/plain": [
              "1.0"
            ]
          },
          "metadata": {},
          "execution_count": 151
        }
      ]
    },
    {
      "cell_type": "markdown",
      "source": [
        "### Getting access to GPU"
      ],
      "metadata": {
        "id": "1UI0KrkxOxtm"
      }
    },
    {
      "cell_type": "code",
      "source": [
        "tf.config.list_physical_devices()"
      ],
      "metadata": {
        "colab": {
          "base_uri": "https://localhost:8080/"
        },
        "id": "mRw9tz1vO07q",
        "outputId": "7aa67c2b-e307-4fee-90ab-2709a84cc0db"
      },
      "execution_count": null,
      "outputs": [
        {
          "output_type": "execute_result",
          "data": {
            "text/plain": [
              "[PhysicalDevice(name='/physical_device:CPU:0', device_type='CPU')]"
            ]
          },
          "metadata": {},
          "execution_count": 152
        }
      ]
    },
    {
      "cell_type": "code",
      "source": [
        "import tensorflow as tf\n",
        "tf.config.list_physical_devices()\n",
        "#if u have a CUDA GPU, tensorflow will use it however possible"
      ],
      "metadata": {
        "colab": {
          "base_uri": "https://localhost:8080/"
        },
        "id": "nWSchUmLO96Z",
        "outputId": "16b837f8-aa29-4996-bc4c-4f604c32a15b"
      },
      "execution_count": null,
      "outputs": [
        {
          "output_type": "execute_result",
          "data": {
            "text/plain": [
              "[PhysicalDevice(name='/physical_device:CPU:0', device_type='CPU'),\n",
              " PhysicalDevice(name='/physical_device:GPU:0', device_type='GPU')]"
            ]
          },
          "metadata": {},
          "execution_count": 2
        }
      ]
    }
  ]
}